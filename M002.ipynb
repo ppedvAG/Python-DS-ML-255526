{
 "cells": [
  {
   "cell_type": "markdown",
   "id": "87bbedf5-6e1f-4a4f-a828-068ea28858e0",
   "metadata": {},
   "source": [
    "## Numpy\n",
    "\n",
    "= Number Python\n",
    "\n",
    "Verarbeitung von Zahlen\n",
    "\n",
    "Kann alles Mathematische\n",
    "- normale Funktionen\n",
    "- Berechnungen mit Listen (1D, 2D, 3D, ...)"
   ]
  },
  {
   "cell_type": "code",
   "execution_count": 1,
   "id": "b5f481b5-60b0-457a-aa9a-814b52366485",
   "metadata": {},
   "outputs": [],
   "source": [
    "import numpy as np"
   ]
  },
  {
   "cell_type": "markdown",
   "id": "1637b150-aee6-45b4-bba8-50aea6abf345",
   "metadata": {},
   "source": [
    "### Array"
   ]
  },
  {
   "cell_type": "code",
   "execution_count": 2,
   "id": "72ffb5c9-f670-4d18-91f1-5977ee75a17a",
   "metadata": {},
   "outputs": [],
   "source": [
    "a = np.array([1, 2, 3, 4])"
   ]
  },
  {
   "cell_type": "code",
   "execution_count": 3,
   "id": "8f5e639b-ac70-4772-87b9-2d0af24eb5d2",
   "metadata": {},
   "outputs": [
    {
     "data": {
      "text/plain": [
       "array([1, 2, 3, 4])"
      ]
     },
     "execution_count": 3,
     "metadata": {},
     "output_type": "execute_result"
    }
   ],
   "source": [
    "a"
   ]
  },
  {
   "cell_type": "markdown",
   "id": "04b41ca4-bc1d-4402-b9b5-06062cd6e83e",
   "metadata": {},
   "source": [
    "#### Index"
   ]
  },
  {
   "cell_type": "code",
   "execution_count": 4,
   "id": "57e315f5-36fc-4524-9226-4f89984294f1",
   "metadata": {},
   "outputs": [
    {
     "data": {
      "text/plain": [
       "np.int64(1)"
      ]
     },
     "execution_count": 4,
     "metadata": {},
     "output_type": "execute_result"
    }
   ],
   "source": [
    "a[0]"
   ]
  },
  {
   "cell_type": "code",
   "execution_count": 5,
   "id": "37db8f99-aefc-4805-8d01-171326ca1c33",
   "metadata": {},
   "outputs": [
    {
     "data": {
      "text/plain": [
       "np.int64(2)"
      ]
     },
     "execution_count": 5,
     "metadata": {},
     "output_type": "execute_result"
    }
   ],
   "source": [
    "a[1]"
   ]
  },
  {
   "cell_type": "code",
   "execution_count": 6,
   "id": "87182cc5-0bb1-4ce7-87bb-0ae9a6c641af",
   "metadata": {},
   "outputs": [
    {
     "data": {
      "text/plain": [
       "np.int64(4)"
      ]
     },
     "execution_count": 6,
     "metadata": {},
     "output_type": "execute_result"
    }
   ],
   "source": [
    "a[-1]"
   ]
  },
  {
   "cell_type": "code",
   "execution_count": 7,
   "id": "b988fb2a-b644-4616-b675-1829b1a7dda6",
   "metadata": {},
   "outputs": [
    {
     "data": {
      "text/plain": [
       "array([1, 2])"
      ]
     },
     "execution_count": 7,
     "metadata": {},
     "output_type": "execute_result"
    }
   ],
   "source": [
    "a[0:2]"
   ]
  },
  {
   "cell_type": "markdown",
   "id": "178e50b7-d404-4cd9-981b-2de2d2151b5b",
   "metadata": {},
   "source": [
    "#### Eigenschaften"
   ]
  },
  {
   "cell_type": "code",
   "execution_count": 8,
   "id": "c70027c8-8979-4459-af23-b1d9f86036ec",
   "metadata": {},
   "outputs": [
    {
     "data": {
      "text/plain": [
       "4"
      ]
     },
     "execution_count": 8,
     "metadata": {},
     "output_type": "execute_result"
    }
   ],
   "source": [
    "len(a)"
   ]
  },
  {
   "cell_type": "code",
   "execution_count": 10,
   "id": "e5446c6b-5c34-44e2-9673-f043e8cffc74",
   "metadata": {},
   "outputs": [
    {
     "data": {
      "text/plain": [
       "4"
      ]
     },
     "execution_count": 10,
     "metadata": {},
     "output_type": "execute_result"
    }
   ],
   "source": [
    "a.size  # Gesamtanzahl der Elemente"
   ]
  },
  {
   "cell_type": "code",
   "execution_count": 13,
   "id": "87439423-c710-44da-9777-e15bc2322b26",
   "metadata": {},
   "outputs": [
    {
     "data": {
      "text/plain": [
       "(4,)"
      ]
     },
     "execution_count": 13,
     "metadata": {},
     "output_type": "execute_result"
    }
   ],
   "source": [
    "a.shape  # Form: A x B"
   ]
  },
  {
   "cell_type": "code",
   "execution_count": 14,
   "id": "5501b852-5800-4c7e-88fe-53ab672ebc89",
   "metadata": {},
   "outputs": [
    {
     "data": {
      "text/plain": [
       "1"
      ]
     },
     "execution_count": 14,
     "metadata": {},
     "output_type": "execute_result"
    }
   ],
   "source": [
    "a.ndim  # Anzahl Dimensionen"
   ]
  },
  {
   "cell_type": "code",
   "execution_count": 16,
   "id": "0a7d3a7e-e38d-4bd6-a8cf-b323be7b95c7",
   "metadata": {},
   "outputs": [
    {
     "data": {
      "text/plain": [
       "dtype('int64')"
      ]
     },
     "execution_count": 16,
     "metadata": {},
     "output_type": "execute_result"
    }
   ],
   "source": [
    "a.dtype  # Datentyp der Elemente"
   ]
  },
  {
   "cell_type": "markdown",
   "id": "c7e4bc4c-a66b-499f-89d3-986489e73c45",
   "metadata": {},
   "source": [
    "#### Datentypen\n",
    "\n",
    "Ganzzahlen:\n",
    "- int8\n",
    "- int16\n",
    "- int32\n",
    "- int64\n",
    "\n",
    "Kommazahlen:\n",
    "- float16\n",
    "- float32\n",
    "- float64"
   ]
  },
  {
   "cell_type": "code",
   "execution_count": 17,
   "id": "9eee7314-b78a-48a7-b464-a661ee1d61af",
   "metadata": {},
   "outputs": [],
   "source": [
    "b = np.array([1, 2, 3, 4], dtype=np.int8)"
   ]
  },
  {
   "cell_type": "code",
   "execution_count": 18,
   "id": "95c2f86a-7294-41b3-9476-e4fb81326017",
   "metadata": {},
   "outputs": [
    {
     "data": {
      "text/plain": [
       "array([1, 2, 3, 4], dtype=int8)"
      ]
     },
     "execution_count": 18,
     "metadata": {},
     "output_type": "execute_result"
    }
   ],
   "source": [
    "b"
   ]
  },
  {
   "cell_type": "markdown",
   "id": "4a395231-a9f3-4ad5-af0e-812be5b19009",
   "metadata": {},
   "source": [
    "### Matrix\n",
    "\n",
    "= 2D-Array"
   ]
  },
  {
   "cell_type": "code",
   "execution_count": 21,
   "id": "7fd5367d-322f-4459-9fbc-28af0a772da1",
   "metadata": {},
   "outputs": [],
   "source": [
    "c = np.array([[1, 2, 3], [4, 5, 6], [7, 8, 9]])"
   ]
  },
  {
   "cell_type": "code",
   "execution_count": 22,
   "id": "1ceed335-14ec-40e7-bd5f-02541578b642",
   "metadata": {},
   "outputs": [
    {
     "data": {
      "text/plain": [
       "array([[1, 2, 3],\n",
       "       [4, 5, 6],\n",
       "       [7, 8, 9]])"
      ]
     },
     "execution_count": 22,
     "metadata": {},
     "output_type": "execute_result"
    }
   ],
   "source": [
    "c"
   ]
  },
  {
   "cell_type": "markdown",
   "id": "d9338f48-35eb-4035-b6e8-8fd8dec05225",
   "metadata": {},
   "source": [
    "Funktionen/Eigenschaften funktionieren wie bei 1D-Array"
   ]
  },
  {
   "cell_type": "code",
   "execution_count": 25,
   "id": "86b2a1cb-e96a-4cc0-9534-ca11abe88231",
   "metadata": {},
   "outputs": [
    {
     "data": {
      "text/plain": [
       "np.int64(45)"
      ]
     },
     "execution_count": 25,
     "metadata": {},
     "output_type": "execute_result"
    }
   ],
   "source": [
    "c.sum()"
   ]
  },
  {
   "cell_type": "code",
   "execution_count": 26,
   "id": "32f4d685-5684-45bd-892e-f6ced0b6ad79",
   "metadata": {},
   "outputs": [
    {
     "data": {
      "text/plain": [
       "np.float64(5.0)"
      ]
     },
     "execution_count": 26,
     "metadata": {},
     "output_type": "execute_result"
    }
   ],
   "source": [
    "c.mean()"
   ]
  },
  {
   "cell_type": "code",
   "execution_count": 27,
   "id": "d0e673e5-75a2-4280-8c6c-9c07d6985021",
   "metadata": {},
   "outputs": [
    {
     "data": {
      "text/plain": [
       "np.float64(2.581988897471611)"
      ]
     },
     "execution_count": 27,
     "metadata": {},
     "output_type": "execute_result"
    }
   ],
   "source": [
    "c.std()"
   ]
  },
  {
   "cell_type": "code",
   "execution_count": 28,
   "id": "69b68527-3578-49af-bbef-1f42f1c1cc21",
   "metadata": {},
   "outputs": [
    {
     "data": {
      "text/plain": [
       "np.float64(6.666666666666667)"
      ]
     },
     "execution_count": 28,
     "metadata": {},
     "output_type": "execute_result"
    }
   ],
   "source": [
    "c.var()"
   ]
  },
  {
   "cell_type": "code",
   "execution_count": 32,
   "id": "1217697f-41f5-46a2-9a24-d6f1e8e7b67a",
   "metadata": {},
   "outputs": [
    {
     "data": {
      "text/plain": [
       "array([12, 15, 18])"
      ]
     },
     "execution_count": 32,
     "metadata": {},
     "output_type": "execute_result"
    }
   ],
   "source": [
    "c.sum(axis=0)  # Senkrecht"
   ]
  },
  {
   "cell_type": "code",
   "execution_count": 33,
   "id": "bc4a9463-7570-4727-998a-4576edb3c7a4",
   "metadata": {},
   "outputs": [
    {
     "data": {
      "text/plain": [
       "array([ 6, 15, 24])"
      ]
     },
     "execution_count": 33,
     "metadata": {},
     "output_type": "execute_result"
    }
   ],
   "source": [
    "c.sum(axis=1)  # Waagrecht"
   ]
  },
  {
   "cell_type": "code",
   "execution_count": 40,
   "id": "0057ef2e-1b4f-40e3-93ff-791460a852dd",
   "metadata": {},
   "outputs": [
    {
     "data": {
      "text/plain": [
       "array([0, 1, 2, 3, 4, 5, 6, 7, 8, 9])"
      ]
     },
     "execution_count": 40,
     "metadata": {},
     "output_type": "execute_result"
    }
   ],
   "source": [
    "np.arange(10)  # Bereich erstellen"
   ]
  },
  {
   "cell_type": "code",
   "execution_count": 41,
   "id": "5b6d0a69-1e26-4b18-8ff5-f4ecd4f917b2",
   "metadata": {},
   "outputs": [
    {
     "data": {
      "text/plain": [
       "array([ 5,  6,  7,  8,  9, 10, 11, 12, 13, 14])"
      ]
     },
     "execution_count": 41,
     "metadata": {},
     "output_type": "execute_result"
    }
   ],
   "source": [
    "np.arange(5, 15)"
   ]
  },
  {
   "cell_type": "markdown",
   "id": "5a5ebf7a-f50d-41ee-9905-44cd167e02e2",
   "metadata": {},
   "source": [
    "#### Index bei Matrizen\n",
    "\n",
    "Funktioniert minimal anders als der Standard Python Index"
   ]
  },
  {
   "cell_type": "code",
   "execution_count": 65,
   "id": "71f195d5-9acb-4e15-a0be-dc358cd68216",
   "metadata": {},
   "outputs": [
    {
     "data": {
      "text/plain": [
       "array([[1, 2, 3],\n",
       "       [4, 5, 6],\n",
       "       [7, 8, 9]])"
      ]
     },
     "execution_count": 65,
     "metadata": {},
     "output_type": "execute_result"
    }
   ],
   "source": [
    "c"
   ]
  },
  {
   "cell_type": "code",
   "execution_count": 64,
   "id": "4751109b-fe6a-4f4f-93a5-5f4045600f41",
   "metadata": {},
   "outputs": [
    {
     "data": {
      "text/plain": [
       "array([1, 2, 3])"
      ]
     },
     "execution_count": 64,
     "metadata": {},
     "output_type": "execute_result"
    }
   ],
   "source": [
    "c[0]"
   ]
  },
  {
   "cell_type": "code",
   "execution_count": 66,
   "id": "dc9500fd-d4b1-4201-89fa-ececc29c98d4",
   "metadata": {},
   "outputs": [
    {
     "data": {
      "text/plain": [
       "array([[1, 2, 3],\n",
       "       [4, 5, 6]])"
      ]
     },
     "execution_count": 66,
     "metadata": {},
     "output_type": "execute_result"
    }
   ],
   "source": [
    "c[0:2]"
   ]
  },
  {
   "cell_type": "code",
   "execution_count": 74,
   "id": "cd3530c4-ebe6-4fda-896c-8541478a21fe",
   "metadata": {},
   "outputs": [
    {
     "data": {
      "text/plain": [
       "array([[1, 2, 3],\n",
       "       [4, 5, 6]])"
      ]
     },
     "execution_count": 74,
     "metadata": {},
     "output_type": "execute_result"
    }
   ],
   "source": [
    "c[:2]"
   ]
  },
  {
   "cell_type": "code",
   "execution_count": 68,
   "id": "703a9141-17b0-4370-a02f-5cb6834a203c",
   "metadata": {},
   "outputs": [
    {
     "data": {
      "text/plain": [
       "np.int64(6)"
      ]
     },
     "execution_count": 68,
     "metadata": {},
     "output_type": "execute_result"
    }
   ],
   "source": [
    "c[1][2]  # In Python"
   ]
  },
  {
   "cell_type": "code",
   "execution_count": 70,
   "id": "26421e79-745e-4066-a2e5-47a87e4cf070",
   "metadata": {},
   "outputs": [
    {
     "data": {
      "text/plain": [
       "np.int64(6)"
      ]
     },
     "execution_count": 70,
     "metadata": {},
     "output_type": "execute_result"
    }
   ],
   "source": [
    "c[1, 2]  # Mit Numpy möglich (in Python nicht möglich)"
   ]
  },
  {
   "cell_type": "code",
   "execution_count": 73,
   "id": "2cd8c904-a809-4253-b94b-87750e1fbe82",
   "metadata": {},
   "outputs": [
    {
     "data": {
      "text/plain": [
       "array([1, 4, 7])"
      ]
     },
     "execution_count": 73,
     "metadata": {},
     "output_type": "execute_result"
    }
   ],
   "source": [
    "c[0:3, 0]  # Einzelne Spalte auswählen"
   ]
  },
  {
   "cell_type": "code",
   "execution_count": 77,
   "id": "6591e96d-ca5e-4847-8c71-138e7e2d78e2",
   "metadata": {},
   "outputs": [
    {
     "data": {
      "text/plain": [
       "array([1, 4, 7])"
      ]
     },
     "execution_count": 77,
     "metadata": {},
     "output_type": "execute_result"
    }
   ],
   "source": [
    "c[0:, 0]  # Obergrenze weglassen"
   ]
  },
  {
   "cell_type": "code",
   "execution_count": 78,
   "id": "3c688292-0e9a-4e46-99db-020b1d59a354",
   "metadata": {},
   "outputs": [
    {
     "data": {
      "text/plain": [
       "array([1, 4, 7])"
      ]
     },
     "execution_count": 78,
     "metadata": {},
     "output_type": "execute_result"
    }
   ],
   "source": [
    "c[:, 0]  # Beide Grenzen weglassen"
   ]
  },
  {
   "cell_type": "code",
   "execution_count": 81,
   "id": "9093e600-fe38-4384-90e3-0e3bfb3662d3",
   "metadata": {},
   "outputs": [
    {
     "data": {
      "text/plain": [
       "array([[5, 6],\n",
       "       [8, 9]])"
      ]
     },
     "execution_count": 81,
     "metadata": {},
     "output_type": "execute_result"
    }
   ],
   "source": [
    "c[1:, 1:]"
   ]
  },
  {
   "cell_type": "markdown",
   "id": "d0196c1f-06eb-41e3-b6a2-bca867812203",
   "metadata": {},
   "source": [
    "### Vektorisierung\n",
    "\n",
    "Gesamtes Array mit einer Operation ansprechen\n",
    "\n",
    "Beliebige Operatoren auf jedes Element des Arrays benutzen"
   ]
  },
  {
   "cell_type": "code",
   "execution_count": 42,
   "id": "e22b6200-704f-441f-9a53-419283b5acde",
   "metadata": {},
   "outputs": [],
   "source": [
    "d = np.arange(0, 20)"
   ]
  },
  {
   "cell_type": "code",
   "execution_count": 43,
   "id": "3ffde93d-77f6-435f-955d-17f213c00c24",
   "metadata": {},
   "outputs": [
    {
     "data": {
      "text/plain": [
       "array([ 0,  1,  2,  3,  4,  5,  6,  7,  8,  9, 10, 11, 12, 13, 14, 15, 16,\n",
       "       17, 18, 19])"
      ]
     },
     "execution_count": 43,
     "metadata": {},
     "output_type": "execute_result"
    }
   ],
   "source": [
    "d"
   ]
  },
  {
   "cell_type": "code",
   "execution_count": 45,
   "id": "43d84940-fee7-4b57-9d72-1d8a0889f8a4",
   "metadata": {},
   "outputs": [
    {
     "data": {
      "text/plain": [
       "array([10, 11, 12, 13, 14, 15, 16, 17, 18, 19, 20, 21, 22, 23, 24, 25, 26,\n",
       "       27, 28, 29])"
      ]
     },
     "execution_count": 45,
     "metadata": {},
     "output_type": "execute_result"
    }
   ],
   "source": [
    "d + 10"
   ]
  },
  {
   "cell_type": "code",
   "execution_count": 48,
   "id": "2fc282d2-4e09-4e5e-a2ec-fe3af514c460",
   "metadata": {},
   "outputs": [
    {
     "data": {
      "text/plain": [
       "array([0. , 0.5, 1. , 1.5, 2. , 2.5, 3. , 3.5, 4. , 4.5, 5. , 5.5, 6. ,\n",
       "       6.5, 7. , 7.5, 8. , 8.5, 9. , 9.5])"
      ]
     },
     "execution_count": 48,
     "metadata": {},
     "output_type": "execute_result"
    }
   ],
   "source": [
    "d / 2  # Jedes Element des Arrays durch 2"
   ]
  },
  {
   "cell_type": "markdown",
   "id": "aa5f5f55-bae3-4523-8a03-d3d6a0607eca",
   "metadata": {},
   "source": [
    "Zwei Arrays können auch miteinander Vektorisiert werden"
   ]
  },
  {
   "cell_type": "code",
   "execution_count": 50,
   "id": "5aa5fddf-a49c-41d5-bfee-8a2545514feb",
   "metadata": {},
   "outputs": [],
   "source": [
    "e = np.arange(10, 30)"
   ]
  },
  {
   "cell_type": "code",
   "execution_count": 51,
   "id": "c5af57af-30b0-41bf-af59-8ae3f0b10c84",
   "metadata": {},
   "outputs": [
    {
     "data": {
      "text/plain": [
       "array([10, 11, 12, 13, 14, 15, 16, 17, 18, 19, 20, 21, 22, 23, 24, 25, 26,\n",
       "       27, 28, 29])"
      ]
     },
     "execution_count": 51,
     "metadata": {},
     "output_type": "execute_result"
    }
   ],
   "source": [
    "e"
   ]
  },
  {
   "cell_type": "code",
   "execution_count": 52,
   "id": "49a538b1-4bf0-4842-a2d7-361cbf3e8cc4",
   "metadata": {},
   "outputs": [
    {
     "data": {
      "text/plain": [
       "array([  0,  11,  24,  39,  56,  75,  96, 119, 144, 171, 200, 231, 264,\n",
       "       299, 336, 375, 416, 459, 504, 551])"
      ]
     },
     "execution_count": 52,
     "metadata": {},
     "output_type": "execute_result"
    }
   ],
   "source": [
    "d * e"
   ]
  },
  {
   "cell_type": "markdown",
   "id": "7b583ff7-b1d4-4711-9d0b-4f31a0aa8d03",
   "metadata": {},
   "source": [
    "Vektorisierung funktioniert auch mit mehrdimensionalen Arrays"
   ]
  },
  {
   "cell_type": "code",
   "execution_count": 53,
   "id": "506a534c-3345-40e0-b982-81a4698eb2d7",
   "metadata": {},
   "outputs": [
    {
     "data": {
      "text/plain": [
       "array([[ 2,  4,  6],\n",
       "       [ 8, 10, 12],\n",
       "       [14, 16, 18]])"
      ]
     },
     "execution_count": 53,
     "metadata": {},
     "output_type": "execute_result"
    }
   ],
   "source": [
    "c * 2"
   ]
  },
  {
   "cell_type": "code",
   "execution_count": 54,
   "id": "44680c11-c9fc-4b12-9688-fc968e2e9a1a",
   "metadata": {},
   "outputs": [
    {
     "data": {
      "text/plain": [
       "array([[ 1,  4,  9],\n",
       "       [16, 25, 36],\n",
       "       [49, 64, 81]])"
      ]
     },
     "execution_count": 54,
     "metadata": {},
     "output_type": "execute_result"
    }
   ],
   "source": [
    "c * c"
   ]
  },
  {
   "cell_type": "markdown",
   "id": "80369343-772f-49f9-9217-18e06a0807fa",
   "metadata": {},
   "source": [
    "### Boolean Masken\n",
    "\n",
    "Ergebnis einer Vektorisierung mit einem booleschen Operator\n",
    "\n",
    "Im Endeffekt ein Array mit True/False\n",
    "\n",
    "Wird immer für Filterungen verwendet (später bei Pandas, Matplotlib und ML)"
   ]
  },
  {
   "cell_type": "code",
   "execution_count": 55,
   "id": "9dad749e-5308-4b44-87b2-fc7bf50ed608",
   "metadata": {},
   "outputs": [],
   "source": [
    "f = np.arange(10)"
   ]
  },
  {
   "cell_type": "code",
   "execution_count": 56,
   "id": "b89e1b25-38ac-4390-87b9-659fec4ab120",
   "metadata": {},
   "outputs": [
    {
     "data": {
      "text/plain": [
       "array([0, 1, 2, 3, 4, 5, 6, 7, 8, 9])"
      ]
     },
     "execution_count": 56,
     "metadata": {},
     "output_type": "execute_result"
    }
   ],
   "source": [
    "f"
   ]
  },
  {
   "cell_type": "code",
   "execution_count": 58,
   "id": "5081b772-f04d-4403-bf5c-29ca5dbf2445",
   "metadata": {},
   "outputs": [],
   "source": [
    "g = f > 5"
   ]
  },
  {
   "cell_type": "code",
   "execution_count": 59,
   "id": "baac3069-de76-45b7-8716-c23d83d96a08",
   "metadata": {},
   "outputs": [
    {
     "data": {
      "text/plain": [
       "array([False, False, False, False, False, False,  True,  True,  True,\n",
       "        True])"
      ]
     },
     "execution_count": 59,
     "metadata": {},
     "output_type": "execute_result"
    }
   ],
   "source": [
    "g"
   ]
  },
  {
   "cell_type": "code",
   "execution_count": 61,
   "id": "cae3a96b-97dd-4587-b043-ff87aeb75f57",
   "metadata": {},
   "outputs": [
    {
     "data": {
      "text/plain": [
       "array([6, 7, 8, 9])"
      ]
     },
     "execution_count": 61,
     "metadata": {},
     "output_type": "execute_result"
    }
   ],
   "source": [
    "f[g]  # Nur die Werte, welche nicht False sind"
   ]
  },
  {
   "cell_type": "code",
   "execution_count": 63,
   "id": "419118ec-790b-435f-b171-590e975c8d7d",
   "metadata": {},
   "outputs": [
    {
     "data": {
      "text/plain": [
       "array([6, 7, 8, 9])"
      ]
     },
     "execution_count": 63,
     "metadata": {},
     "output_type": "execute_result"
    }
   ],
   "source": [
    "f[f > 5]"
   ]
  },
  {
   "cell_type": "markdown",
   "id": "f5194de1-0c6e-440a-bb23-91b928ab0b42",
   "metadata": {},
   "source": [
    "### Performance"
   ]
  },
  {
   "cell_type": "code",
   "execution_count": 83,
   "id": "43ff019f-edda-4879-96c9-558840caf653",
   "metadata": {},
   "outputs": [],
   "source": [
    "import time\n",
    "def measureTime(func):\n",
    "    start = time.time()\n",
    "    func()\n",
    "    end = time.time()\n",
    "    print(end - start)"
   ]
  },
  {
   "cell_type": "code",
   "execution_count": 87,
   "id": "4d67a2be-c3ab-4aa5-b3fc-85e9dd003843",
   "metadata": {},
   "outputs": [],
   "source": [
    "anz = 100_000_000"
   ]
  },
  {
   "cell_type": "code",
   "execution_count": 101,
   "id": "3420054f-85ee-4215-92c0-83c5fbb18b1b",
   "metadata": {},
   "outputs": [],
   "source": [
    "def pythonList():\n",
    "    x = list(range(anz))\n",
    "    del(x)"
   ]
  },
  {
   "cell_type": "code",
   "execution_count": 102,
   "id": "a3b2e1b4-11d9-4d80-8153-f30636f0b110",
   "metadata": {},
   "outputs": [],
   "source": [
    "def numpyArray():\n",
    "    x = np.arange(anz)\n",
    "    del(x)"
   ]
  },
  {
   "cell_type": "code",
   "execution_count": 103,
   "id": "b4afd6dc-6e9d-4cc6-aed9-9b23aa683c55",
   "metadata": {},
   "outputs": [],
   "source": [
    "def numpyRange():\n",
    "    x = np.array(range(anz))\n",
    "    del(x)"
   ]
  },
  {
   "cell_type": "code",
   "execution_count": 104,
   "id": "3882cd54-7721-409f-b6cb-f90d15a75c40",
   "metadata": {},
   "outputs": [
    {
     "name": "stdout",
     "output_type": "stream",
     "text": [
      "1.5087122917175293\n",
      "0.14778757095336914\n",
      "4.172598123550415\n"
     ]
    }
   ],
   "source": [
    "measureTime(pythonList)\n",
    "measureTime(numpyArray)\n",
    "measureTime(numpyRange)"
   ]
  },
  {
   "cell_type": "code",
   "execution_count": 107,
   "id": "fe0a6516-3c9d-4985-9fe6-14e15163fe95",
   "metadata": {},
   "outputs": [],
   "source": [
    "import sys"
   ]
  },
  {
   "cell_type": "code",
   "execution_count": 109,
   "id": "8d42b6de-bf2d-4a51-aca0-8efbaa6cc275",
   "metadata": {},
   "outputs": [
    {
     "data": {
      "text/plain": [
       "28"
      ]
     },
     "execution_count": 109,
     "metadata": {},
     "output_type": "execute_result"
    }
   ],
   "source": [
    "sys.getsizeof(anz)  # Speicherbedarf einer Variable in Byte"
   ]
  },
  {
   "cell_type": "code",
   "execution_count": 113,
   "id": "90b132e6-eae4-4152-8e2e-8aaeb1303ee1",
   "metadata": {},
   "outputs": [
    {
     "data": {
      "text/plain": [
       "8"
      ]
     },
     "execution_count": 113,
     "metadata": {},
     "output_type": "execute_result"
    }
   ],
   "source": [
    "a.itemsize  # Gibt die Größe von einem einzelnen Element zurück"
   ]
  },
  {
   "cell_type": "code",
   "execution_count": 116,
   "id": "d755d3f0-d19a-46c8-afe5-3a46182c927e",
   "metadata": {},
   "outputs": [
    {
     "data": {
      "text/plain": [
       "1"
      ]
     },
     "execution_count": 116,
     "metadata": {},
     "output_type": "execute_result"
    }
   ],
   "source": [
    "b.itemsize  # Speicherbedarf: 1B pro Element"
   ]
  },
  {
   "cell_type": "markdown",
   "id": "ef49fea8-248e-4bec-8d4e-0843e322d298",
   "metadata": {},
   "source": [
    "### Weitere Funktionen"
   ]
  },
  {
   "cell_type": "markdown",
   "id": "acd25eb3-621b-429a-b43b-896925d05750",
   "metadata": {},
   "source": [
    "#### random"
   ]
  },
  {
   "cell_type": "code",
   "execution_count": 120,
   "id": "685e3d94-22e6-4b94-ab0f-4917d67e260e",
   "metadata": {},
   "outputs": [
    {
     "data": {
      "text/plain": [
       "0.8471797381084442"
      ]
     },
     "execution_count": 120,
     "metadata": {},
     "output_type": "execute_result"
    }
   ],
   "source": [
    "np.random.random()  # Kommazahl zw. 0 und 1"
   ]
  },
  {
   "cell_type": "code",
   "execution_count": 122,
   "id": "1ec5fb8b-d12d-495f-ad2a-c6a8e7e6404f",
   "metadata": {},
   "outputs": [
    {
     "data": {
      "text/plain": [
       "array([0.74346648, 0.97675839, 0.45405855, 0.92949211, 0.72880849,\n",
       "       0.49178293, 0.60805879, 0.72653632, 0.66765652, 0.86573346])"
      ]
     },
     "execution_count": 122,
     "metadata": {},
     "output_type": "execute_result"
    }
   ],
   "source": [
    "np.random.random(size=(10))"
   ]
  },
  {
   "cell_type": "code",
   "execution_count": 123,
   "id": "91ba9f8a-8d0a-4fc0-8b57-1ed94d4d74e7",
   "metadata": {},
   "outputs": [
    {
     "data": {
      "text/plain": [
       "array([[0.42529555, 0.47820662, 0.33113422, 0.87986934, 0.17458412],\n",
       "       [0.81887449, 0.66637446, 0.15111313, 0.09596903, 0.17094402],\n",
       "       [0.01145922, 0.94166981, 0.744849  , 0.58746793, 0.34527848],\n",
       "       [0.82577948, 0.94375823, 0.09829776, 0.57628862, 0.4597529 ],\n",
       "       [0.01637934, 0.99127775, 0.32153944, 0.89205573, 0.51352147]])"
      ]
     },
     "execution_count": 123,
     "metadata": {},
     "output_type": "execute_result"
    }
   ],
   "source": [
    "np.random.random(size=(5, 5))"
   ]
  },
  {
   "cell_type": "code",
   "execution_count": 134,
   "id": "74f64af4-9bfd-4f76-8693-532041643c15",
   "metadata": {},
   "outputs": [
    {
     "data": {
      "text/plain": [
       "4"
      ]
     },
     "execution_count": 134,
     "metadata": {},
     "output_type": "execute_result"
    }
   ],
   "source": [
    "np.random.randint(10)"
   ]
  },
  {
   "cell_type": "code",
   "execution_count": 139,
   "id": "ff47b847-ee01-4154-953c-561d78aebb2c",
   "metadata": {},
   "outputs": [
    {
     "data": {
      "text/plain": [
       "array([[8, 4, 8, 0, 8],\n",
       "       [8, 0, 6, 5, 7],\n",
       "       [1, 4, 5, 2, 4],\n",
       "       [7, 0, 3, 7, 9],\n",
       "       [9, 0, 7, 0, 9]], dtype=int8)"
      ]
     },
     "execution_count": 139,
     "metadata": {},
     "output_type": "execute_result"
    }
   ],
   "source": [
    "np.random.randint(10, size=(5, 5), dtype=np.int8)"
   ]
  },
  {
   "cell_type": "markdown",
   "id": "89a5f7b2-e820-485c-8575-05e0ad199002",
   "metadata": {},
   "source": [
    "#### reshape\n",
    "\n",
    "Form eines Arrays verändern (1D -> 2D, 2D -> 1D)"
   ]
  },
  {
   "cell_type": "code",
   "execution_count": 142,
   "id": "e0b63bb5-9500-4e67-bd27-c26a3fd30535",
   "metadata": {},
   "outputs": [],
   "source": [
    "h = np.random.randint(10, size=(10, 5), dtype=np.int8)"
   ]
  },
  {
   "cell_type": "code",
   "execution_count": 143,
   "id": "375bcbf1-e20c-4c7a-864f-f4c42f235eef",
   "metadata": {},
   "outputs": [
    {
     "data": {
      "text/plain": [
       "array([[6, 0, 1, 5, 8],\n",
       "       [4, 5, 8, 3, 9],\n",
       "       [8, 0, 2, 6, 9],\n",
       "       [5, 8, 7, 7, 9],\n",
       "       [5, 0, 1, 1, 2],\n",
       "       [2, 8, 0, 1, 9],\n",
       "       [3, 6, 5, 5, 8],\n",
       "       [9, 8, 2, 0, 1],\n",
       "       [3, 1, 1, 8, 9],\n",
       "       [3, 8, 8, 1, 3]], dtype=int8)"
      ]
     },
     "execution_count": 143,
     "metadata": {},
     "output_type": "execute_result"
    }
   ],
   "source": [
    "h"
   ]
  },
  {
   "cell_type": "code",
   "execution_count": 145,
   "id": "81f6bbf8-6ea2-4240-848b-a660d1f25321",
   "metadata": {},
   "outputs": [
    {
     "data": {
      "text/plain": [
       "array([[6, 0, 1, 5, 8, 4, 5, 8, 3, 9],\n",
       "       [8, 0, 2, 6, 9, 5, 8, 7, 7, 9],\n",
       "       [5, 0, 1, 1, 2, 2, 8, 0, 1, 9],\n",
       "       [3, 6, 5, 5, 8, 9, 8, 2, 0, 1],\n",
       "       [3, 1, 1, 8, 9, 3, 8, 8, 1, 3]], dtype=int8)"
      ]
     },
     "execution_count": 145,
     "metadata": {},
     "output_type": "execute_result"
    }
   ],
   "source": [
    "h.reshape(5, 10)"
   ]
  },
  {
   "cell_type": "code",
   "execution_count": 146,
   "id": "c4c8f578-d5b4-4d6b-b4e1-1e0bbff55700",
   "metadata": {},
   "outputs": [
    {
     "data": {
      "text/plain": [
       "array([6, 0, 1, 5, 8, 4, 5, 8, 3, 9, 8, 0, 2, 6, 9, 5, 8, 7, 7, 9, 5, 0,\n",
       "       1, 1, 2, 2, 8, 0, 1, 9, 3, 6, 5, 5, 8, 9, 8, 2, 0, 1, 3, 1, 1, 8,\n",
       "       9, 3, 8, 8, 1, 3], dtype=int8)"
      ]
     },
     "execution_count": 146,
     "metadata": {},
     "output_type": "execute_result"
    }
   ],
   "source": [
    "h.reshape(50)"
   ]
  },
  {
   "cell_type": "code",
   "execution_count": 148,
   "id": "09259a3d-9968-4746-ae09-7cc3607fa982",
   "metadata": {},
   "outputs": [
    {
     "data": {
      "text/plain": [
       "array([6, 0, 1, 5, 8, 4, 5, 8, 3, 9, 8, 0, 2, 6, 9, 5, 8, 7, 7, 9, 5, 0,\n",
       "       1, 1, 2, 2, 8, 0, 1, 9, 3, 6, 5, 5, 8, 9, 8, 2, 0, 1, 3, 1, 1, 8,\n",
       "       9, 3, 8, 8, 1, 3], dtype=int8)"
      ]
     },
     "execution_count": 148,
     "metadata": {},
     "output_type": "execute_result"
    }
   ],
   "source": [
    "h.reshape(h.size)"
   ]
  },
  {
   "cell_type": "code",
   "execution_count": 155,
   "id": "4c2a5c2d-24a4-48e8-ba86-a2897108a3f0",
   "metadata": {},
   "outputs": [
    {
     "data": {
      "text/plain": [
       "array([6, 0, 1, 5, 8, 4, 5, 8, 3, 9, 8, 0, 2, 6, 9, 5, 8, 7, 7, 9, 5, 0,\n",
       "       1, 1, 2, 2, 8, 0, 1, 9, 3, 6, 5, 5, 8, 9, 8, 2, 0, 1, 3, 1, 1, 8,\n",
       "       9, 3, 8, 8, 1, 3], dtype=int8)"
      ]
     },
     "execution_count": 155,
     "metadata": {},
     "output_type": "execute_result"
    }
   ],
   "source": [
    "h.reshape(-1)  # reshape(-1): Alle Dimensionen entfernen"
   ]
  },
  {
   "cell_type": "code",
   "execution_count": 156,
   "id": "8635f1b8-ab3d-40d1-8ba1-3a617f978048",
   "metadata": {},
   "outputs": [],
   "source": [
    "i = np.arange(25)"
   ]
  },
  {
   "cell_type": "code",
   "execution_count": 157,
   "id": "a648f94b-d37a-4e8c-9b3d-aa668ebdea99",
   "metadata": {},
   "outputs": [
    {
     "data": {
      "text/plain": [
       "array([ 0,  1,  2,  3,  4,  5,  6,  7,  8,  9, 10, 11, 12, 13, 14, 15, 16,\n",
       "       17, 18, 19, 20, 21, 22, 23, 24])"
      ]
     },
     "execution_count": 157,
     "metadata": {},
     "output_type": "execute_result"
    }
   ],
   "source": [
    "i"
   ]
  },
  {
   "cell_type": "code",
   "execution_count": 158,
   "id": "605e1ac2-5bf3-4f74-9417-d08c6b978b0b",
   "metadata": {},
   "outputs": [
    {
     "data": {
      "text/plain": [
       "array([[ 0,  1,  2,  3,  4],\n",
       "       [ 5,  6,  7,  8,  9],\n",
       "       [10, 11, 12, 13, 14],\n",
       "       [15, 16, 17, 18, 19],\n",
       "       [20, 21, 22, 23, 24]])"
      ]
     },
     "execution_count": 158,
     "metadata": {},
     "output_type": "execute_result"
    }
   ],
   "source": [
    "i.reshape(5, 5)"
   ]
  },
  {
   "cell_type": "markdown",
   "id": "342ef3a3-13a0-49c6-8f6f-76753711f9c5",
   "metadata": {},
   "source": [
    "#### linspace\n",
    "\n",
    "Erzeugt ein Array von X bis Y mit Z Elementen\n",
    "\n",
    "Alle Abstände sind gleich groß"
   ]
  },
  {
   "cell_type": "code",
   "execution_count": 162,
   "id": "6b780208-704a-4698-868f-10088a0a6c13",
   "metadata": {},
   "outputs": [
    {
     "data": {
      "text/plain": [
       "array([ 0. ,  0.2,  0.4,  0.6,  0.8,  1. ,  1.2,  1.4,  1.6,  1.8,  2. ,\n",
       "        2.2,  2.4,  2.6,  2.8,  3. ,  3.2,  3.4,  3.6,  3.8,  4. ,  4.2,\n",
       "        4.4,  4.6,  4.8,  5. ,  5.2,  5.4,  5.6,  5.8,  6. ,  6.2,  6.4,\n",
       "        6.6,  6.8,  7. ,  7.2,  7.4,  7.6,  7.8,  8. ,  8.2,  8.4,  8.6,\n",
       "        8.8,  9. ,  9.2,  9.4,  9.6,  9.8, 10. , 10.2, 10.4, 10.6, 10.8,\n",
       "       11. , 11.2, 11.4, 11.6, 11.8, 12. , 12.2, 12.4, 12.6, 12.8, 13. ,\n",
       "       13.2, 13.4, 13.6, 13.8, 14. , 14.2, 14.4, 14.6, 14.8, 15. , 15.2,\n",
       "       15.4, 15.6, 15.8, 16. , 16.2, 16.4, 16.6, 16.8, 17. , 17.2, 17.4,\n",
       "       17.6, 17.8, 18. , 18.2, 18.4, 18.6, 18.8, 19. , 19.2, 19.4, 19.6,\n",
       "       19.8, 20. ])"
      ]
     },
     "execution_count": 162,
     "metadata": {},
     "output_type": "execute_result"
    }
   ],
   "source": [
    "np.linspace(0, 20, 101)"
   ]
  },
  {
   "cell_type": "code",
   "execution_count": 164,
   "id": "295d6161-acdb-4e77-9c24-240d582c2003",
   "metadata": {},
   "outputs": [
    {
     "data": {
      "text/plain": [
       "array([ 0. ,  0.2,  0.4,  0.6,  0.8,  1. ,  1.2,  1.4,  1.6,  1.8,  2. ,\n",
       "        2.2,  2.4,  2.6,  2.8,  3. ,  3.2,  3.4,  3.6,  3.8,  4. ,  4.2,\n",
       "        4.4,  4.6,  4.8,  5. ,  5.2,  5.4,  5.6,  5.8,  6. ,  6.2,  6.4,\n",
       "        6.6,  6.8,  7. ,  7.2,  7.4,  7.6,  7.8,  8. ,  8.2,  8.4,  8.6,\n",
       "        8.8,  9. ,  9.2,  9.4,  9.6,  9.8, 10. , 10.2, 10.4, 10.6, 10.8,\n",
       "       11. , 11.2, 11.4, 11.6, 11.8, 12. , 12.2, 12.4, 12.6, 12.8, 13. ,\n",
       "       13.2, 13.4, 13.6, 13.8, 14. , 14.2, 14.4, 14.6, 14.8, 15. , 15.2,\n",
       "       15.4, 15.6, 15.8, 16. , 16.2, 16.4, 16.6, 16.8, 17. , 17.2, 17.4,\n",
       "       17.6, 17.8, 18. , 18.2, 18.4, 18.6, 18.8, 19. , 19.2, 19.4, 19.6,\n",
       "       19.8, 20. ])"
      ]
     },
     "execution_count": 164,
     "metadata": {},
     "output_type": "execute_result"
    }
   ],
   "source": [
    "np.arange(0, 101) / 5"
   ]
  },
  {
   "cell_type": "markdown",
   "id": "873b7b51-69a1-45aa-9671-6aa6ec2fadae",
   "metadata": {},
   "source": [
    "#### zeros, ones\n",
    "\n",
    "Erzeugt ein Array mit nur 0-en oder nur 1-en"
   ]
  },
  {
   "cell_type": "code",
   "execution_count": 168,
   "id": "7da7bb66-0527-48a2-b744-0f47965fc859",
   "metadata": {},
   "outputs": [
    {
     "data": {
      "text/plain": [
       "array([0., 0., 0., 0., 0., 0., 0., 0., 0., 0.])"
      ]
     },
     "execution_count": 168,
     "metadata": {},
     "output_type": "execute_result"
    }
   ],
   "source": [
    "np.zeros(10)"
   ]
  },
  {
   "cell_type": "code",
   "execution_count": 169,
   "id": "58ea64a1-322e-4f6f-8dd6-be32a5888355",
   "metadata": {},
   "outputs": [
    {
     "data": {
      "text/plain": [
       "array([1., 1., 1., 1., 1., 1., 1., 1., 1., 1.])"
      ]
     },
     "execution_count": 169,
     "metadata": {},
     "output_type": "execute_result"
    }
   ],
   "source": [
    "np.ones(10)"
   ]
  },
  {
   "cell_type": "code",
   "execution_count": 170,
   "id": "7e044b8b-378a-45d4-bda4-a2a23b853713",
   "metadata": {},
   "outputs": [
    {
     "data": {
      "text/plain": [
       "array([ True,  True,  True,  True,  True,  True,  True,  True,  True,\n",
       "        True])"
      ]
     },
     "execution_count": 170,
     "metadata": {},
     "output_type": "execute_result"
    }
   ],
   "source": [
    "np.zeros(10) == 0"
   ]
  },
  {
   "cell_type": "code",
   "execution_count": 171,
   "id": "edc73f9c-6aeb-4919-81d6-6a214d1cb5b2",
   "metadata": {},
   "outputs": [
    {
     "data": {
      "text/plain": [
       "array([False, False, False, False, False, False, False, False, False,\n",
       "       False])"
      ]
     },
     "execution_count": 171,
     "metadata": {},
     "output_type": "execute_result"
    }
   ],
   "source": [
    "np.zeros(10) == 1"
   ]
  },
  {
   "cell_type": "markdown",
   "id": "15a9d151-d26d-4512-8083-bb6bfdaffb63",
   "metadata": {},
   "source": [
    "#### hstack, vstack\n",
    "\n",
    "Arrays zusammenbauen (Horizontal oder Vertikal)"
   ]
  },
  {
   "cell_type": "code",
   "execution_count": 176,
   "id": "10850446-2394-407a-95a6-f0788797d187",
   "metadata": {},
   "outputs": [],
   "source": [
    "r = h[5:]"
   ]
  },
  {
   "cell_type": "code",
   "execution_count": 177,
   "id": "91494f33-6c30-4d7a-bad1-b849e2dd0803",
   "metadata": {},
   "outputs": [
    {
     "data": {
      "text/plain": [
       "array([[2, 8, 0, 1, 9],\n",
       "       [3, 6, 5, 5, 8],\n",
       "       [9, 8, 2, 0, 1],\n",
       "       [3, 1, 1, 8, 9],\n",
       "       [3, 8, 8, 1, 3]], dtype=int8)"
      ]
     },
     "execution_count": 177,
     "metadata": {},
     "output_type": "execute_result"
    }
   ],
   "source": [
    "r"
   ]
  },
  {
   "cell_type": "code",
   "execution_count": 178,
   "id": "bc03d49b-db78-4354-a12a-b5aee6eb3226",
   "metadata": {},
   "outputs": [],
   "source": [
    "l = h[:5]"
   ]
  },
  {
   "cell_type": "code",
   "execution_count": 179,
   "id": "b436b8ae-192e-404e-9827-fedbdee58a11",
   "metadata": {},
   "outputs": [
    {
     "data": {
      "text/plain": [
       "array([[6, 0, 1, 5, 8],\n",
       "       [4, 5, 8, 3, 9],\n",
       "       [8, 0, 2, 6, 9],\n",
       "       [5, 8, 7, 7, 9],\n",
       "       [5, 0, 1, 1, 2]], dtype=int8)"
      ]
     },
     "execution_count": 179,
     "metadata": {},
     "output_type": "execute_result"
    }
   ],
   "source": [
    "l"
   ]
  },
  {
   "cell_type": "code",
   "execution_count": 185,
   "id": "bc9c145f-25cc-46ae-a53e-589b7f193e2a",
   "metadata": {},
   "outputs": [
    {
     "data": {
      "text/plain": [
       "array([[6, 0, 1, 5, 8, 2, 8, 0, 1, 9],\n",
       "       [4, 5, 8, 3, 9, 3, 6, 5, 5, 8],\n",
       "       [8, 0, 2, 6, 9, 9, 8, 2, 0, 1],\n",
       "       [5, 8, 7, 7, 9, 3, 1, 1, 8, 9],\n",
       "       [5, 0, 1, 1, 2, 3, 8, 8, 1, 3]], dtype=int8)"
      ]
     },
     "execution_count": 185,
     "metadata": {},
     "output_type": "execute_result"
    }
   ],
   "source": [
    "np.hstack([l, r])  # l und r horizontal aneinander hängen\n",
    "# WICHTIG: Die einzelnen Arrays müssen innerhalb der Funktion zusammengruppiert werden"
   ]
  },
  {
   "cell_type": "code",
   "execution_count": 181,
   "id": "9c3adef3-6fdc-4ec8-8a7f-1899a87bcf14",
   "metadata": {},
   "outputs": [
    {
     "data": {
      "text/plain": [
       "array([[6, 0, 1, 5, 8, 4, 5, 8, 3, 9],\n",
       "       [8, 0, 2, 6, 9, 5, 8, 7, 7, 9],\n",
       "       [5, 0, 1, 1, 2, 2, 8, 0, 1, 9],\n",
       "       [3, 6, 5, 5, 8, 9, 8, 2, 0, 1],\n",
       "       [3, 1, 1, 8, 9, 3, 8, 8, 1, 3]], dtype=int8)"
      ]
     },
     "execution_count": 181,
     "metadata": {},
     "output_type": "execute_result"
    }
   ],
   "source": [
    "h.reshape(5, 10)"
   ]
  },
  {
   "cell_type": "code",
   "execution_count": 187,
   "id": "ac063e4b-eaec-402b-91b1-b9aa4148da66",
   "metadata": {},
   "outputs": [],
   "source": [
    "# Aufgabe: Summen jeder Zeile rechts anhängen"
   ]
  },
  {
   "cell_type": "code",
   "execution_count": 186,
   "id": "7c97c706-e364-4159-9b6a-ee95852c09c5",
   "metadata": {},
   "outputs": [],
   "source": [
    "j = np.hstack([l, r])"
   ]
  },
  {
   "cell_type": "code",
   "execution_count": 188,
   "id": "ed3f8806-b8b7-499e-aad8-c0e70dc63b74",
   "metadata": {},
   "outputs": [
    {
     "data": {
      "text/plain": [
       "array([[6, 0, 1, 5, 8, 2, 8, 0, 1, 9],\n",
       "       [4, 5, 8, 3, 9, 3, 6, 5, 5, 8],\n",
       "       [8, 0, 2, 6, 9, 9, 8, 2, 0, 1],\n",
       "       [5, 8, 7, 7, 9, 3, 1, 1, 8, 9],\n",
       "       [5, 0, 1, 1, 2, 3, 8, 8, 1, 3]], dtype=int8)"
      ]
     },
     "execution_count": 188,
     "metadata": {},
     "output_type": "execute_result"
    }
   ],
   "source": [
    "j"
   ]
  },
  {
   "cell_type": "code",
   "execution_count": 201,
   "id": "d90b87de-dfc0-40c7-84d2-24aed96e20c5",
   "metadata": {},
   "outputs": [
    {
     "data": {
      "text/plain": [
       "array([40, 56, 45, 58, 32])"
      ]
     },
     "execution_count": 201,
     "metadata": {},
     "output_type": "execute_result"
    }
   ],
   "source": [
    "j.sum(axis=1)"
   ]
  },
  {
   "cell_type": "code",
   "execution_count": 202,
   "id": "9ed9f943-d662-40f3-90b7-bd54a8e73ff2",
   "metadata": {},
   "outputs": [
    {
     "data": {
      "text/plain": [
       "array([[ 6,  0,  1,  5,  8,  2,  8,  0,  1,  9, 40],\n",
       "       [ 4,  5,  8,  3,  9,  3,  6,  5,  5,  8, 56],\n",
       "       [ 8,  0,  2,  6,  9,  9,  8,  2,  0,  1, 45],\n",
       "       [ 5,  8,  7,  7,  9,  3,  1,  1,  8,  9, 58],\n",
       "       [ 5,  0,  1,  1,  2,  3,  8,  8,  1,  3, 32]])"
      ]
     },
     "execution_count": 202,
     "metadata": {},
     "output_type": "execute_result"
    }
   ],
   "source": [
    "np.hstack([j, j.sum(axis=1).reshape(5, 1)])"
   ]
  },
  {
   "cell_type": "code",
   "execution_count": 207,
   "id": "154586f7-d14f-4732-9804-cb642e768ac3",
   "metadata": {},
   "outputs": [],
   "source": [
    "j = np.hstack([j, j.sum(axis=1).reshape(5, 1)])"
   ]
  },
  {
   "cell_type": "code",
   "execution_count": 203,
   "id": "8c91b801-0454-4ff6-a66b-2e5f46ab30fd",
   "metadata": {},
   "outputs": [],
   "source": [
    "# Aufgabe: Summen jeder Spalte unten anhängen"
   ]
  },
  {
   "cell_type": "code",
   "execution_count": 208,
   "id": "b73983ae-a7b8-4c97-96fc-17701b13152b",
   "metadata": {},
   "outputs": [
    {
     "data": {
      "text/plain": [
       "array([ 28,  13,  19,  22,  37,  20,  31,  16,  15,  30, 231])"
      ]
     },
     "execution_count": 208,
     "metadata": {},
     "output_type": "execute_result"
    }
   ],
   "source": [
    "j.sum(axis=0)"
   ]
  },
  {
   "cell_type": "code",
   "execution_count": 209,
   "id": "dc3bb06b-8b13-4f60-8bbd-2b05d8fe9291",
   "metadata": {},
   "outputs": [
    {
     "data": {
      "text/plain": [
       "array([[  6,   0,   1,   5,   8,   2,   8,   0,   1,   9,  40],\n",
       "       [  4,   5,   8,   3,   9,   3,   6,   5,   5,   8,  56],\n",
       "       [  8,   0,   2,   6,   9,   9,   8,   2,   0,   1,  45],\n",
       "       [  5,   8,   7,   7,   9,   3,   1,   1,   8,   9,  58],\n",
       "       [  5,   0,   1,   1,   2,   3,   8,   8,   1,   3,  32],\n",
       "       [ 28,  13,  19,  22,  37,  20,  31,  16,  15,  30, 231]])"
      ]
     },
     "execution_count": 209,
     "metadata": {},
     "output_type": "execute_result"
    }
   ],
   "source": [
    "np.vstack([j, j.sum(axis=0)])"
   ]
  }
 ],
 "metadata": {
  "kernelspec": {
   "display_name": "Python 3 (ipykernel)",
   "language": "python",
   "name": "python3"
  },
  "language_info": {
   "codemirror_mode": {
    "name": "ipython",
    "version": 3
   },
   "file_extension": ".py",
   "mimetype": "text/x-python",
   "name": "python",
   "nbconvert_exporter": "python",
   "pygments_lexer": "ipython3",
   "version": "3.13.1"
  }
 },
 "nbformat": 4,
 "nbformat_minor": 5
}
