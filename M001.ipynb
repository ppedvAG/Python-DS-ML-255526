{
 "cells": [
  {
   "cell_type": "markdown",
   "id": "1f424684-d73c-4c26-9d8e-08fdfe33dacd",
   "metadata": {},
   "source": [
    "## IPython\n",
    "\n",
    "Entwicklungsumgebung, in der Ergebnisse in Zellen gespeichert werden\n",
    "\n",
    "Ergebnisse von vorherigen Zellen, können später in anderen Zellen verwendet werden\n",
    "\n",
    "Weitere Features:\n",
    "- Markdown\n",
    "    - Aufzählungen\n",
    "    - Überschriften\n",
    "    - __Fetter Text__\n",
    "    - _Kursiver Text_\n",
    "- Imports über mehrere Zellen\n",
    "- Diagramme/Tabellen darstellen"
   ]
  },
  {
   "cell_type": "code",
   "execution_count": 12,
   "id": "358224ab-2318-48f3-9ddd-939ffac25c44",
   "metadata": {},
   "outputs": [],
   "source": [
    "x = 5"
   ]
  },
  {
   "cell_type": "code",
   "execution_count": 14,
   "id": "b9a862e6-6ae4-4b45-a60d-8eee31abf95a",
   "metadata": {},
   "outputs": [
    {
     "data": {
      "text/plain": [
       "10"
      ]
     },
     "execution_count": 14,
     "metadata": {},
     "output_type": "execute_result"
    }
   ],
   "source": [
    "x * 2  # Zugriff auf vorherige Zelle"
   ]
  },
  {
   "cell_type": "code",
   "execution_count": 16,
   "id": "1dce6066-59ba-4344-b500-2fdd6bb5eca0",
   "metadata": {},
   "outputs": [
    {
     "data": {
      "text/plain": [
       "5"
      ]
     },
     "execution_count": 16,
     "metadata": {},
     "output_type": "execute_result"
    }
   ],
   "source": [
    "x  # Ergebnis wird sofort angezeigt"
   ]
  },
  {
   "cell_type": "markdown",
   "id": "1188c702-e73b-431f-8766-7cdac12571a5",
   "metadata": {},
   "source": [
    "### Tabelle darstellen"
   ]
  },
  {
   "cell_type": "code",
   "execution_count": 17,
   "id": "505be273-8d6a-4a45-9e57-fde5509ffd2f",
   "metadata": {},
   "outputs": [],
   "source": [
    "import pandas as pd"
   ]
  },
  {
   "cell_type": "code",
   "execution_count": 19,
   "id": "9cb8ebb5-65aa-41ca-b460-137c5b3dbe06",
   "metadata": {},
   "outputs": [
    {
     "data": {
      "text/html": [
       "<div>\n",
       "<style scoped>\n",
       "    .dataframe tbody tr th:only-of-type {\n",
       "        vertical-align: middle;\n",
       "    }\n",
       "\n",
       "    .dataframe tbody tr th {\n",
       "        vertical-align: top;\n",
       "    }\n",
       "\n",
       "    .dataframe thead th {\n",
       "        text-align: right;\n",
       "    }\n",
       "</style>\n",
       "<table border=\"1\" class=\"dataframe\">\n",
       "  <thead>\n",
       "    <tr style=\"text-align: right;\">\n",
       "      <th></th>\n",
       "      <th>Spalte1</th>\n",
       "      <th>Spalte2</th>\n",
       "      <th>Spalte3</th>\n",
       "    </tr>\n",
       "  </thead>\n",
       "  <tbody>\n",
       "    <tr>\n",
       "      <th>0</th>\n",
       "      <td>1</td>\n",
       "      <td>4</td>\n",
       "      <td>7</td>\n",
       "    </tr>\n",
       "    <tr>\n",
       "      <th>1</th>\n",
       "      <td>2</td>\n",
       "      <td>5</td>\n",
       "      <td>8</td>\n",
       "    </tr>\n",
       "    <tr>\n",
       "      <th>2</th>\n",
       "      <td>3</td>\n",
       "      <td>6</td>\n",
       "      <td>9</td>\n",
       "    </tr>\n",
       "  </tbody>\n",
       "</table>\n",
       "</div>"
      ],
      "text/plain": [
       "   Spalte1  Spalte2  Spalte3\n",
       "0        1        4        7\n",
       "1        2        5        8\n",
       "2        3        6        9"
      ]
     },
     "execution_count": 19,
     "metadata": {},
     "output_type": "execute_result"
    }
   ],
   "source": [
    "pd.DataFrame({\"Spalte1\": [1, 2, 3], \"Spalte2\": [4, 5, 6], \"Spalte3\": [7, 8, 9]})"
   ]
  },
  {
   "cell_type": "markdown",
   "id": "89a88b17-1344-4c4c-8251-ef6c175d9e35",
   "metadata": {},
   "source": [
    "### Diagramm darstellen"
   ]
  },
  {
   "cell_type": "code",
   "execution_count": 20,
   "id": "18434db5-b004-4f94-aae4-56a6b106a18c",
   "metadata": {},
   "outputs": [],
   "source": [
    "import matplotlib.pyplot as plt"
   ]
  },
  {
   "cell_type": "code",
   "execution_count": 29,
   "id": "ecf980e3-3757-4b34-9100-2b0fcb8fa5e4",
   "metadata": {},
   "outputs": [
    {
     "data": {
      "text/plain": [
       "[<matplotlib.lines.Line2D at 0x26f1cdf9810>]"
      ]
     },
     "execution_count": 29,
     "metadata": {},
     "output_type": "execute_result"
    },
    {
     "data": {
      "image/png": "[encoded data removed]",
      "text/plain": [
       "<Figure size 640x480 with 1 Axes>"
      ]
     },
     "metadata": {},
     "output_type": "display_data"
    }
   ],
   "source": [
    "y = [3, 9, 1, 7, 42, 75, 13]\n",
    "plt.plot(y)"
   ]
  },
  {
   "cell_type": "markdown",
   "id": "1b273ce8-6a29-43ca-a60c-20ee5db99c4f",
   "metadata": {},
   "source": [
    "### Shortcuts\n",
    "- Strg/Shift + Enter: Zelle ausführen\n",
    "- Enter/Escape: Zelle betreten/verlassen\n",
    "- Pfeil hoch/hinunter: Zw. Zellen hin- und herbewegen\n",
    "- M/Y: Zw. Markdown und Code umschalten\n",
    "- A, B: Neue Zellen hinzufügen (A: darüber, B: darunter)\n",
    "- D + D: Zelle löschen\n",
    "- X, C, V: Ausschneiden, Kopieren, Einfügen"
   ]
  }
 ],
 "metadata": {
  "kernelspec": {
   "display_name": "Python 3 (ipykernel)",
   "language": "python",
   "name": "python3"
  },
  "language_info": {
   "codemirror_mode": {
    "name": "ipython",
    "version": 3
   },
   "file_extension": ".py",
   "mimetype": "text/x-python",
   "name": "python",
   "nbconvert_exporter": "python",
   "pygments_lexer": "ipython3",
   "version": "3.13.1"
  }
 },
 "nbformat": 4,
 "nbformat_minor": 5
}
